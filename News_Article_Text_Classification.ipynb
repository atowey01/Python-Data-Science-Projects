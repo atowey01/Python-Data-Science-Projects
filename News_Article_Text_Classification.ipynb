{
 "cells": [
  {
   "cell_type": "markdown",
   "metadata": {},
   "source": [
    "### Introduction"
   ]
  },
  {
   "cell_type": "markdown",
   "metadata": {},
   "source": [
    "The Dataset used in this analysis contains over 2000 articles from BBC News that are classified into 4 categories which are tech, business, sport, politics and entertaiment. The data can be found at https://www.kaggle.com/yufengdev/bbc-text-categorization/data. The aim of the analysis is to predict whether an article is in the sport category or not using NLP techniques.\n",
    "\n",
    "The google news Word2Vec pretrained vectors will be used to carry out this analysis. A random forest model, XGBoost model and a neural network using LSTM will all be created using the google news vectors as inputs to the models."
   ]
  },
  {
   "cell_type": "markdown",
   "metadata": {
    "heading_collapsed": true
   },
   "source": [
    "### Import Modules"
   ]
  },
  {
   "cell_type": "code",
   "execution_count": 39,
   "metadata": {
    "hidden": true
   },
   "outputs": [
    {
     "name": "stderr",
     "output_type": "stream",
     "text": [
      "[nltk_data] Downloading package stopwords to\n",
      "[nltk_data]     /Users/aislingtowey/nltk_data...\n",
      "[nltk_data]   Package stopwords is already up-to-date!\n",
      "[nltk_data] Downloading package wordnet to\n",
      "[nltk_data]     /Users/aislingtowey/nltk_data...\n",
      "[nltk_data]   Package wordnet is already up-to-date!\n"
     ]
    }
   ],
   "source": [
    "import pandas as pd\n",
    "import matplotlib as plt\n",
    "import os\n",
    "import numpy as np\n",
    "\n",
    "import spacy\n",
    "import nltk\n",
    "import re\n",
    "import gensim\n",
    "from gensim import corpora\n",
    "from gensim.corpora.dictionary import Dictionary\n",
    "from gensim.models import KeyedVectors\n",
    "from nltk.tokenize import word_tokenize\n",
    "from gensim.models import Word2Vec\n",
    "from gensim.models import LdaModel\n",
    "from gensim.models.tfidfmodel import TfidfModel\n",
    "from collections import Counter\n",
    "nltk.download('stopwords')\n",
    "nltk.download('wordnet')\n",
    "from nltk.corpus import stopwords \n",
    "from nltk.stem.wordnet import WordNetLemmatizer\n",
    "import string\n",
    "import pyLDAvis.gensim\n",
    "import langdetect\n",
    "from tqdm import tqdm_notebook as tqdm\n",
    "from sklearn.feature_extraction.text import TfidfVectorizer\n",
    "from sklearn.metrics import classification_report, confusion_matrix, accuracy_score\n",
    "from sklearn.model_selection import cross_val_score\n",
    "from sklearn.metrics import precision_score\n",
    "from sklearn.model_selection import KFold\n",
    "from sklearn.model_selection import GridSearchCV\n",
    "from sklearn.ensemble import RandomForestClassifier\n",
    "from sklearn.metrics import precision_score\n",
    "from sklearn.metrics import recall_score\n",
    "\n",
    "from sklearn.ensemble import RandomForestRegressor\n",
    "from sklearn.model_selection import train_test_split\n",
    "from xgboost.sklearn import XGBClassifier\n",
    "from sklearn.metrics import f1_score\n",
    "from imblearn.over_sampling import SMOTE\n",
    "from sklearn.metrics import roc_auc_score\n",
    "\n",
    "pyLDAvis.enable_notebook()\n",
    "stopwords = set(stopwords.words('english'))\n",
    "stopwords.add('pron')\n",
    "stopwords.add('PRON')\n",
    "stopwords.add('-PRON-')\n",
    "stopwords.add('-pron-')\n",
    "[stopwords.add(x) for x in ['hi', 'thanks', 'thank', 'u', 'please', 'regard', 'regards', 'hello', 'dear']]\n",
    "punctuation = set(string.punctuation)\n",
    "lemmatize = WordNetLemmatizer()\n",
    "\n",
    "from keras.models import Sequential\n",
    "from keras import layers\n",
    "from keras.layers import Dense, Activation, Flatten, LSTM, Dropout, Embedding\n",
    "from keras.preprocessing.sequence import pad_sequences\n",
    "from keras.preprocessing.text import Tokenizer\n",
    "import matplotlib.pyplot as plt\n",
    "plt.style.use('ggplot')"
   ]
  },
  {
   "cell_type": "markdown",
   "metadata": {
    "heading_collapsed": true
   },
   "source": [
    "### Read in Dataset & Basic Data Exploration"
   ]
  },
  {
   "cell_type": "code",
   "execution_count": 3,
   "metadata": {
    "hidden": true
   },
   "outputs": [
    {
     "name": "stdout",
     "output_type": "stream",
     "text": [
      "<class 'pandas.core.frame.DataFrame'>\n",
      "RangeIndex: 2225 entries, 0 to 2224\n",
      "Data columns (total 2 columns):\n",
      "category    2225 non-null object\n",
      "text        2225 non-null object\n",
      "dtypes: object(2)\n",
      "memory usage: 34.8+ KB\n",
      "None\n",
      "        category                                               text\n",
      "0           tech  tv future in the hands of viewers with home th...\n",
      "1       business  worldcom boss  left books alone  former worldc...\n",
      "2          sport  tigers wary of farrell  gamble  leicester say ...\n",
      "3          sport  yeading face newcastle in fa cup premiership s...\n",
      "4  entertainment  ocean s twelve raids box office ocean s twelve...\n",
      "sport            511\n",
      "business         510\n",
      "politics         417\n",
      "tech             401\n",
      "entertainment    386\n",
      "Name: category, dtype: int64\n"
     ]
    }
   ],
   "source": [
    "os.chdir('/Users/aislingtowey/Documents/Project/data')\n",
    "\n",
    "#read in the data\n",
    "bbc = pd.read_csv('bbc-text.csv')\n",
    "\n",
    "#basic exploration\n",
    "print(bbc.info())\n",
    "print(bbc.head())\n",
    "print(bbc['category'].value_counts())"
   ]
  },
  {
   "cell_type": "markdown",
   "metadata": {
    "heading_collapsed": true
   },
   "source": [
    "### Data Preprocessing"
   ]
  },
  {
   "cell_type": "code",
   "execution_count": 4,
   "metadata": {
    "hidden": true
   },
   "outputs": [
    {
     "name": "stdout",
     "output_type": "stream",
     "text": [
      "0    1714\n",
      "1     511\n",
      "Name: category_sport, dtype: int64\n"
     ]
    }
   ],
   "source": [
    "#create a new column with binary values for cancellation sport\n",
    "bbc['category_sport'] = 0\n",
    "bbc.loc[bbc['category'] == 'sport', 'category_sport'] = 1\n",
    "print(bbc['category_sport'].value_counts())"
   ]
  },
  {
   "cell_type": "code",
   "execution_count": 5,
   "metadata": {
    "hidden": true
   },
   "outputs": [
    {
     "data": {
      "application/vnd.jupyter.widget-view+json": {
       "model_id": "edc812223eee4cd5a39eb47b6d770c1f",
       "version_major": 2,
       "version_minor": 0
      },
      "text/plain": [
       "HBox(children=(IntProgress(value=0, max=2225), HTML(value='')))"
      ]
     },
     "metadata": {},
     "output_type": "display_data"
    },
    {
     "name": "stdout",
     "output_type": "stream",
     "text": [
      "\n",
      "['worldcom bos left book alone former worldcom bos bernie ebbers accused overseeing bn £bn fraud never made accounting decision witness told juror david myers made comment questioning defence lawyer arguing mr ebbers responsible worldcom problem phone company collapsed  prosecutor claim loss hidden protect firm share mr myers already pleaded guilty fraud assisting prosecutor monday defence lawyer reid weingarten tried distance client allegation cross examination asked mr myers ever knew mr ebbers make accounting decision aware mr myers replied ever know mr ebbers make accounting entry worldcom book mr weingarten pressed replied witness mr myers admitted ordered false accounting entry request former worldcom chief financial officer scott sullivan defence lawyer trying paint mr sullivan admitted fraud testify later trial mastermind behind worldcom accounting house card mr ebbers team meanwhile looking portray affable bos admission pe graduate economist whatever ability mr ebbers transformed worldcom relative unknown bn telecom giant investor darling late s worldcom problem mounted however competition increased telecom boom petered firm finally collapsed shareholder lost bn   worker lost job mr ebbers trial expected last two month found guilty former ceo face substantial jail sentence firmly declared innocence']\n",
      "        category                                               text  \\\n",
      "0           tech  tv future in the hands of viewers with home th...   \n",
      "1       business  worldcom boss  left books alone  former worldc...   \n",
      "2          sport  tigers wary of farrell  gamble  leicester say ...   \n",
      "3          sport  yeading face newcastle in fa cup premiership s...   \n",
      "4  entertainment  ocean s twelve raids box office ocean s twelve...   \n",
      "\n",
      "   category_sport                                         text_clean  \n",
      "0               0  tv future hand viewer home theatre system plas...  \n",
      "1               0  worldcom bos left book alone former worldcom b...  \n",
      "2               1  tiger wary farrell gamble leicester say rushed...  \n",
      "3               1  yeading face newcastle fa cup premiership side...  \n",
      "4               0  ocean twelve raid box office ocean twelve crim...  \n"
     ]
    }
   ],
   "source": [
    "#function for cleaning and preprocessing the data\n",
    "def cleaning(text):\n",
    "    one = \" \".join([i for i in text.lower().split() if i not in stopwords])\n",
    "    two = \"\".join(i for i in one if i not in punctuation)\n",
    "    two = \" \".join([i for i in two.lower().split() if i not in stopwords])\n",
    "    three = \" \".join(lemmatize.lemmatize(i) for i in two.split())\n",
    "    four = \"\".join([i for i in three if not i.isdigit()])\n",
    "    return four\n",
    "\n",
    "#clean the articles and create vectors from them\n",
    "bbc['text_clean'] = [cleaning(x) for x in tqdm(bbc['text'])]\n",
    "\n",
    "#change articles to a list\n",
    "articles = bbc['text_clean'].to_list()\n",
    "print(articles[1:2])\n",
    "print(bbc.head())"
   ]
  },
  {
   "cell_type": "markdown",
   "metadata": {
    "heading_collapsed": true
   },
   "source": [
    "### Pretrained Google News Word2Vec Model"
   ]
  },
  {
   "cell_type": "code",
   "execution_count": 9,
   "metadata": {
    "hidden": true
   },
   "outputs": [
    {
     "name": "stderr",
     "output_type": "stream",
     "text": [
      "/Users/aislingtowey/.virtualenvs/topic_classifier/lib/python3.7/site-packages/smart_open/smart_open_lib.py:398: UserWarning: This function is deprecated, use smart_open.open instead. See the migration notes for details: https://github.com/RaRe-Technologies/smart_open/blob/master/README.rst#migrating-to-the-new-open-function\n",
      "  'See the migration notes for details: %s' % _MIGRATION_NOTES_URL\n"
     ]
    },
    {
     "name": "stdout",
     "output_type": "stream",
     "text": [
      "<gensim.models.keyedvectors.Word2VecKeyedVectors object at 0x12e8e3f98>\n",
      "[('costs', 0.7686900496482849), ('costing', 0.6449304819107056), ('price_tag', 0.5991894006729126), ('Costs', 0.5513685345649719), ('thecost', 0.544492244720459), ('pricetag', 0.5438615083694458), ('costof', 0.5437614917755127), ('Cost', 0.5356055498123169), ('price', 0.5076345801353455), ('savings', 0.5053994655609131)]\n",
      "0.5038674887031331\n",
      "horse\n"
     ]
    },
    {
     "name": "stderr",
     "output_type": "stream",
     "text": [
      "/Users/aislingtowey/.virtualenvs/topic_classifier/lib/python3.7/site-packages/gensim/models/keyedvectors.py:730: FutureWarning: arrays to stack must be passed as a \"sequence\" type such as list or tuple. Support for non-sequence iterables such as generators is deprecated as of NumPy 1.16 and will raise an error in the future.\n",
      "  vectors = vstack(self.word_vec(word, use_norm=True) for word in used_words).astype(REAL)\n"
     ]
    }
   ],
   "source": [
    "import warnings\n",
    "warnings.simplefilter(\"ignore\", DeprecationWarning)\n",
    "\n",
    "#load vectors from file\n",
    "google_model = gensim.models.KeyedVectors.load_word2vec_format('GoogleNews-vectors-negative300.bin', binary=True)\n",
    "print(google_model)\n",
    "\n",
    "#explore vectors\n",
    "#print(model.wv.vocab)\n",
    "#print(model.wv['suitcase'])\n",
    "print(google_model.wv.most_similar('cost'))\n",
    "print(google_model.wv.similarity('cost', 'fee'))\n",
    "print(google_model.wv.doesnt_match(\"cost charge horse price\".split()))"
   ]
  },
  {
   "cell_type": "markdown",
   "metadata": {
    "heading_collapsed": true
   },
   "source": [
    "### Random Forest and XGBoost Vector Preparation"
   ]
  },
  {
   "cell_type": "code",
   "execution_count": 10,
   "metadata": {
    "hidden": true
   },
   "outputs": [],
   "source": [
    "#now need to create an average word vector to represent each article \n",
    "#in order to run random forest and xgboost\n",
    "#first create function to get the mean vector \n",
    "def article_vector(word2vec_model, article):\n",
    "    # remove out-of-vocabulary words\n",
    "    article = [word for word in article if word in google_model.wv.vocab]\n",
    "    return np.mean(google_model[article], axis=0)\n",
    "\n",
    "#then iterate through all articles and use the function\n",
    "x = []\n",
    "for article in articles: # append the vector for each article\n",
    "    x.append(article_vector(google_model, article))\n",
    "    \n",
    "X = np.array(x) # list to array"
   ]
  },
  {
   "cell_type": "markdown",
   "metadata": {
    "heading_collapsed": true
   },
   "source": [
    "### Random Forest"
   ]
  },
  {
   "cell_type": "code",
   "execution_count": 47,
   "metadata": {
    "hidden": true
   },
   "outputs": [
    {
     "name": "stdout",
     "output_type": "stream",
     "text": [
      "              precision    recall  f1-score   support\n",
      "\n",
      "           0      0.853     0.938     0.894       533\n",
      "           1      0.598     0.363     0.452       135\n",
      "\n",
      "    accuracy                          0.822       668\n",
      "   macro avg      0.725     0.651     0.673       668\n",
      "weighted avg      0.802     0.822     0.804       668\n",
      "\n",
      "[[500  33]\n",
      " [ 86  49]]\n",
      "ROC score = 0.6505246334514627\n",
      "Best Parameters = {'criterion': 'gini', 'n_estimators': 120}\n",
      "Best F1 Score = 0.8869961104318782\n"
     ]
    }
   ],
   "source": [
    "#random forest model\n",
    "rf= RandomForestClassifier(random_state = 11)\n",
    "\n",
    "#create grid search to try different combinations of hyperparameters\n",
    "grid_param = { \n",
    "    'n_estimators': [30, 80, 120],\n",
    "    'criterion': ['gini']\n",
    "}\n",
    "\n",
    "gs_rf = GridSearchCV(estimator=rf,  \n",
    "                     param_grid=grid_param,\n",
    "                     scoring='f1_macro',\n",
    "                     cv=3)\n",
    "\n",
    "#split into training and test set\n",
    "X_train, X_test, y_train, y_test = train_test_split(X, bbc['category_sport'], random_state=11, test_size=0.3)\n",
    "\n",
    "#balances the training data\n",
    "sm = SMOTE(random_state=11, sampling_strategy='auto')\n",
    "X_res, y_res = sm.fit_resample(X_train, y_train)\n",
    "\n",
    "#train the model\n",
    "gs_rf.fit(X_res, y_res)\n",
    "\n",
    "#predict on the test set\n",
    "rf_predict = gs_rf.predict(X_test)\n",
    "\n",
    "#check metrics\n",
    "print(classification_report(y_test, rf_predict, digits=3))\n",
    "print(confusion_matrix(y_test, rf_predict))\n",
    "print(f\"ROC score = {roc_auc_score(y_test, rf_predict)}\")\n",
    "print(f\"Best Parameters = {gs_rf.best_params_}\")\n",
    "print(f\"Best F1 Score = {gs_rf.best_score_}\") "
   ]
  },
  {
   "cell_type": "markdown",
   "metadata": {
    "heading_collapsed": true
   },
   "source": [
    "### XGBoost"
   ]
  },
  {
   "cell_type": "code",
   "execution_count": 48,
   "metadata": {
    "hidden": true
   },
   "outputs": [
    {
     "name": "stdout",
     "output_type": "stream",
     "text": [
      "              precision    recall  f1-score   support\n",
      "\n",
      "           0      0.871     0.863     0.867       533\n",
      "           1      0.479     0.496     0.487       135\n",
      "\n",
      "    accuracy                          0.789       668\n",
      "   macro avg      0.675     0.680     0.677       668\n",
      "weighted avg      0.792     0.789     0.790       668\n",
      "\n",
      "[[460  73]\n",
      " [ 68  67]]\n",
      "ROC score = 0.6796678479605309\n",
      "Best Parameters = {'colsample_bytree': 0.8, 'gamma': 1, 'learning_rate': 0.1, 'max_depth': 7, 'min_child_weight': 2}\n",
      "Best F1 Score = 0.8678815435250514\n"
     ]
    }
   ],
   "source": [
    "#xgboost model\n",
    "xgb=XGBClassifier()\n",
    "\n",
    "#A parameter grid for XGBoost\n",
    "grid_param = {\n",
    "        'learning_rate': [0.1, 0.15],\n",
    "        'min_child_weight': [1, 2],\n",
    "        'gamma': [1],\n",
    "        'colsample_bytree': [0.8],\n",
    "        'max_depth': [6, 7]\n",
    "        }\n",
    "\n",
    "gs_xgb = GridSearchCV(estimator=xgb,  \n",
    "                     param_grid=grid_param,\n",
    "                     scoring='f1_macro',\n",
    "                     cv=3)\n",
    "\n",
    "#split the data into training and test set\n",
    "X_train, X_test, y_train, y_test = train_test_split(X, bbc['category_sport'], random_state=11, test_size=0.3)\n",
    "sm = SMOTE(random_state=11, sampling_strategy='auto')\n",
    "X_res, y_res = sm.fit_resample(X_train, y_train)\n",
    "\n",
    "#train the model\n",
    "gs_xgb.fit(X_res, y_res)\n",
    "\n",
    "#predict on the test set\n",
    "xgb_predict = gs_xgb.predict(X_test)\n",
    "\n",
    "#check metrics\n",
    "print(classification_report(y_test, xgb_predict, digits=3))\n",
    "print(confusion_matrix(y_test, xgb_predict))\n",
    "print(f\"ROC score = {roc_auc_score(y_test, xgb_predict)}\")\n",
    "print(f\"Best Parameters = {gs_xgb.best_params_}\")\n",
    "print(f\"Best F1 Score = {gs_xgb.best_score_}\") "
   ]
  },
  {
   "cell_type": "markdown",
   "metadata": {
    "heading_collapsed": true
   },
   "source": [
    "### Neural Network Preparation"
   ]
  },
  {
   "cell_type": "code",
   "execution_count": 29,
   "metadata": {
    "hidden": true
   },
   "outputs": [],
   "source": [
    "#function to plot training v testing on accuracy and loss\n",
    "def plot_history(history):\n",
    "    acc = history.history['acc']\n",
    "    val_acc = history.history['val_acc']\n",
    "    loss = history.history['loss']\n",
    "    val_loss = history.history['val_loss']\n",
    "    x = range(1, len(acc) + 1)\n",
    "\n",
    "    plt.figure(figsize=(12, 5))\n",
    "    plt.subplot(1, 2, 1)\n",
    "    plt.plot(x, acc, 'b', label='Training acc')\n",
    "    plt.plot(x, val_acc, 'r', label='Validation acc')\n",
    "    plt.title('Training and validation accuracy')\n",
    "    plt.legend()\n",
    "    plt.subplot(1, 2, 2)\n",
    "    plt.plot(x, loss, 'b', label='Training loss')\n",
    "    plt.plot(x, val_loss, 'r', label='Validation loss')\n",
    "    plt.title('Training and validation loss')\n",
    "    plt.legend()"
   ]
  },
  {
   "cell_type": "code",
   "execution_count": 36,
   "metadata": {
    "hidden": true
   },
   "outputs": [
    {
     "name": "stdout",
     "output_type": "stream",
     "text": [
      "tiger wary farrell gamble leicester say rushed making bid andy farrell great britain rugby league captain decide switch code anybody else involved process still way away going next stage tiger bos john well told bbc radio leicester moment still lot unknown andy farrell least medical situation whoever take going take big big gamble farrell persistent knee problem operation knee five week ago expected another three month leicester saracen believed head list rugby union club interested signing farrell decides move man game move across union well belief would better playing back least initially sure could make step league union involved centre said well think england would prefer progress position back row make use rugby league skill within forward jury whether cross divide club balance struck cost gamble option bringing readymade replacement\n",
      "[2722, 6022, 3333, 5310, 1151, 15, 4516, 255, 374, 837, 3333, 169, 127, 429, 467, 854, 1190, 2109, 916, 2950, 1335, 607, 679, 72, 34, 242, 73, 43, 564, 2722, 619, 323, 54, 27, 45, 203, 1151, 599, 72, 190, 3990, 837, 3333, 436, 1921, 714, 6493, 31, 73, 31, 154, 154, 5310, 3333, 4321, 2033, 118, 754, 2033, 109, 42, 388, 104, 176, 47, 33, 1151, 4517, 936, 430, 336, 429, 337, 140, 1203, 1855, 3333, 5311, 142, 324, 11, 142, 401, 337, 54, 517, 4, 202, 281, 40, 436, 1505, 586, 10, 23, 645, 467, 337, 607, 368, 1, 54, 67, 76, 4, 2872, 1097, 538, 40, 880, 23, 84, 429, 467, 1300, 437, 466, 2586, 266, 1057, 2515, 140, 1922, 2413, 115, 5310, 969, 1453, 1287]\n",
      "news: 95\n",
      "hour: 409\n",
      "change: 147\n",
      "car: 459\n",
      "[2722 6022 3333 5310 1151   15 4516  255  374  837 3333  169  127  429\n",
      "  467  854 1190 2109  916 2950 1335  607  679   72   34  242   73   43\n",
      "  564 2722  619  323   54   27   45  203 1151  599   72  190 3990  837\n",
      " 3333  436 1921  714 6493   31   73   31  154  154 5310 3333 4321 2033\n",
      "  118  754 2033  109   42  388  104  176   47   33 1151 4517  936  430\n",
      "  336  429  337  140 1203 1855 3333 5311  142  324   11  142  401  337\n",
      "   54  517    4  202  281   40  436 1505  586   10   23  645  467  337\n",
      "  607  368    1   54   67   76    4 2872 1097  538   40  880   23   84\n",
      "  429  467 1300  437  466 2586  266 1057 2515  140 1922 2413  115 5310\n",
      "  969 1453 1287    0    0    0    0    0    0    0    0    0    0    0\n",
      "    0    0    0    0    0    0    0    0    0    0    0    0    0    0\n",
      "    0    0    0    0    0    0    0    0    0    0    0    0    0    0\n",
      "    0    0    0    0    0    0    0    0    0    0    0    0    0    0\n",
      "    0    0    0    0    0    0    0    0    0    0    0    0    0    0\n",
      "    0    0    0    0]\n"
     ]
    }
   ],
   "source": [
    "#prep section for embedding layer of neural network\n",
    "\n",
    "#first tokenize the data into a format that can be used by the word embeddings\n",
    "#vectorize words in emails into a list of integers\n",
    "#num_words sets the size of the vocab so only the 5000 words that are most common in the emails are kept\n",
    "tokenizer = Tokenizer(num_words=10000)\n",
    "tokenizer.fit_on_texts(articles)\n",
    "\n",
    "#create indexes for a text sequence ie. the indexes for all words in an article\n",
    "X = tokenizer.texts_to_sequences(articles)\n",
    "\n",
    "vocab_size = len(tokenizer.word_index) + 1  # Adding 1 because of reserved 0 index\n",
    "\n",
    "#see the word indexes for one article\n",
    "print(articles[2])\n",
    "print(X[2])\n",
    "\n",
    "#check the index of different words\n",
    "#the indexing is ordered after the most common words in the text \n",
    "for word in ['news', 'hour', 'change', 'car']:\n",
    "    print('{}: {}'.format(word, tokenizer.word_index[word]))\n",
    "    \n",
    "#pad the sequence of words adding 0's so all text sequences are the same length\n",
    "maxlen = 200\n",
    "X = pad_sequences(X, padding='post', maxlen=maxlen)\n",
    "print(X[2, :])\n",
    "\n",
    "#split the data into training and test set using tokenized/ indexes text sequences\n",
    "X_train, X_test, y_train, y_test = train_test_split(X, bbc['category_sport'], random_state=11, test_size=0.3)"
   ]
  },
  {
   "cell_type": "code",
   "execution_count": 37,
   "metadata": {
    "hidden": true
   },
   "outputs": [],
   "source": [
    "#Google News pretrained word2vec\n",
    "#import warnings\n",
    "#warnings.simplefilter(\"ignore\", DeprecationWarning)\n",
    "#load vectors from file\n",
    "#googlenews_w2v = gensim.models.KeyedVectors.load_word2vec_format('GoogleNews-vectors-negative300.bin', binary=True)\n",
    "#print(googlenews_w2v)\n",
    "\n",
    "googlenews_w2v_size = 300\n",
    "# Build embedding layers with weights initialized from each model\n",
    "googlenews_w2v_matrix = np.zeros((len(tokenizer.word_index) + 1, googlenews_w2v_size))\n",
    "\n",
    "for word,i in tokenizer.word_index.items():\n",
    "  if word in google_model.vocab:\n",
    "    googlenews_w2v_matrix[i] = google_model[word]\n",
    "    \n",
    "googlenews_w2v_emb = Embedding(len(tokenizer.word_index)+1,\n",
    "                            googlenews_w2v_size,\n",
    "                            weights=[googlenews_w2v_matrix],\n",
    "                            input_length=maxlen)"
   ]
  },
  {
   "cell_type": "markdown",
   "metadata": {},
   "source": [
    "### LSTM Neural Network"
   ]
  },
  {
   "cell_type": "code",
   "execution_count": 40,
   "metadata": {},
   "outputs": [
    {
     "name": "stdout",
     "output_type": "stream",
     "text": [
      "Train on 1089 samples, validate on 468 samples\n",
      "Epoch 1/15\n",
      "1089/1089 [==============================] - 28s 26ms/step - loss: 0.4389 - acc: 0.7888 - val_loss: 0.1408 - val_acc: 0.9829\n",
      "Epoch 2/15\n",
      "1089/1089 [==============================] - 25s 23ms/step - loss: 0.0933 - acc: 0.9853 - val_loss: 0.1728 - val_acc: 0.9594\n",
      "Epoch 3/15\n",
      "1089/1089 [==============================] - 25s 23ms/step - loss: 0.1525 - acc: 0.9642 - val_loss: 0.1690 - val_acc: 0.9573\n",
      "Epoch 4/15\n",
      "1089/1089 [==============================] - 25s 23ms/step - loss: 0.1564 - acc: 0.9624 - val_loss: 0.1677 - val_acc: 0.9573\n",
      "Epoch 5/15\n",
      "1089/1089 [==============================] - 27s 25ms/step - loss: 0.1351 - acc: 0.9669 - val_loss: 0.1518 - val_acc: 0.9594\n",
      "Epoch 6/15\n",
      "1089/1089 [==============================] - 25s 23ms/step - loss: 0.1362 - acc: 0.9651 - val_loss: 0.1853 - val_acc: 0.9509\n",
      "Epoch 7/15\n",
      "1089/1089 [==============================] - 25s 23ms/step - loss: 0.1549 - acc: 0.9624 - val_loss: 0.1813 - val_acc: 0.9509\n",
      "Epoch 8/15\n",
      "1089/1089 [==============================] - 25s 23ms/step - loss: 0.1342 - acc: 0.9660 - val_loss: 0.1692 - val_acc: 0.9530\n",
      "Epoch 9/15\n",
      "1089/1089 [==============================] - 25s 23ms/step - loss: 0.1011 - acc: 0.9798 - val_loss: 1.1223 - val_acc: 0.8291\n",
      "Epoch 10/15\n",
      "1089/1089 [==============================] - 26s 24ms/step - loss: 0.1813 - acc: 0.9697 - val_loss: 0.0844 - val_acc: 0.9850\n",
      "Epoch 11/15\n",
      "1089/1089 [==============================] - 25s 23ms/step - loss: 0.0367 - acc: 0.9927 - val_loss: 0.0237 - val_acc: 0.9893\n",
      "Epoch 12/15\n",
      "1089/1089 [==============================] - 24s 22ms/step - loss: 0.0530 - acc: 0.9917 - val_loss: 0.1142 - val_acc: 0.9786\n",
      "Epoch 13/15\n",
      "1089/1089 [==============================] - 24s 22ms/step - loss: 0.0304 - acc: 0.9954 - val_loss: 0.0328 - val_acc: 0.9915\n",
      "Epoch 14/15\n",
      "1089/1089 [==============================] - 24s 22ms/step - loss: 0.0158 - acc: 0.9972 - val_loss: 0.0798 - val_acc: 0.9872\n",
      "Epoch 15/15\n",
      "1089/1089 [==============================] - 25s 23ms/step - loss: 0.0425 - acc: 0.9936 - val_loss: 0.0756 - val_acc: 0.9872\n",
      "Training Accuracy: 0.9923\n",
      "Testing Accuracy:  0.9850\n",
      "Training Loss: 0.0471\n",
      "Testing Loss:  0.0875\n",
      "Testing Macro Precision: 0.990792\n",
      "Testing Macro Recall: 0.962963\n",
      "Testing Macro F1 score: 0.976122\n",
      "[[533   0]\n",
      " [ 10 125]]\n",
      "              precision    recall  f1-score   support\n",
      "\n",
      "           0       0.98      1.00      0.99       533\n",
      "           1       1.00      0.93      0.96       135\n",
      "\n",
      "    accuracy                           0.99       668\n",
      "   macro avg       0.99      0.96      0.98       668\n",
      "weighted avg       0.99      0.99      0.98       668\n",
      "\n"
     ]
    },
    {
     "data": {
      "image/png": "[encoded data removed]",
      "text/plain": [
       "<Figure size 864x360 with 2 Axes>"
      ]
     },
     "metadata": {},
     "output_type": "display_data"
    }
   ],
   "source": [
    "#LSTM model\n",
    "np.random.seed(11)\n",
    "\n",
    "#create architecture and compile\n",
    "model = Sequential()\n",
    "model.add(googlenews_w2v_emb)\n",
    "model.add(LSTM(units=50, return_sequences=True))  \n",
    "model.add(Dropout(0.2))\n",
    "model.add(LSTM(units=50, return_sequences=True))  \n",
    "model.add(Dropout(0.2))\n",
    "model.add(LSTM(units=50)) \n",
    "model.add(Dropout(0.2))\n",
    "model.add(Dense(1, activation='sigmoid'))\n",
    "model.compile(optimizer='adam',\n",
    "              loss='binary_crossentropy',\n",
    "              metrics=['accuracy'])\n",
    "\n",
    "#fit the model\n",
    "history = model.fit(X_train, y_train,\n",
    "                    epochs=15,\n",
    "                    verbose=True,\n",
    "                    validation_split=0.3,\n",
    "                    batch_size=32)\n",
    "\n",
    "#check accuracy and loss\n",
    "loss, accuracy = model.evaluate(X_train, y_train, verbose=False)\n",
    "print(\"Training Accuracy: {:.4f}\".format(accuracy))\n",
    "loss, accuracy = model.evaluate(X_test, y_test, verbose=False)\n",
    "print(\"Testing Accuracy:  {:.4f}\".format(accuracy))\n",
    "loss, accuracy = model.evaluate(X_train, y_train, verbose=False)\n",
    "print(\"Training Loss: {:.4f}\".format(loss))\n",
    "loss, accuracy = model.evaluate(X_test, y_test, verbose=False)\n",
    "print(\"Testing Loss:  {:.4f}\".format(loss))\n",
    "\n",
    "#create the accuracy and loss plots as defined in function\n",
    "plot_history(history)\n",
    "\n",
    "# predict crisp classes for test set\n",
    "yhat_classes = model.predict_classes(X_test, verbose=0)\n",
    "\n",
    "# precision tp / (tp + fp)\n",
    "precision = precision_score(y_test, yhat_classes, average = 'macro')\n",
    "print('Testing Macro Precision: %f' % precision)\n",
    "# recall: tp / (tp + fn)\n",
    "recall = recall_score(y_test, yhat_classes, average = 'macro')\n",
    "print('Testing Macro Recall: %f' % recall)\n",
    "# f1: 2 tp / (2 tp + fp + fn)\n",
    "f1 = f1_score(y_test, yhat_classes, average = 'macro')\n",
    "print('Testing Macro F1 score: %f' % f1)\n",
    "\n",
    "# confusion matrix\n",
    "matrix = confusion_matrix(y_test, yhat_classes)\n",
    "print(matrix)\n",
    "\n",
    "print(classification_report(y_test, yhat_classes, digits=2))"
   ]
  },
  {
   "cell_type": "markdown",
   "metadata": {},
   "source": [
    "### Investigation of Models"
   ]
  },
  {
   "cell_type": "code",
   "execution_count": 49,
   "metadata": {},
   "outputs": [
    {
     "data": {
      "text/html": [
       "<div>\n",
       "<style scoped>\n",
       "    .dataframe tbody tr th:only-of-type {\n",
       "        vertical-align: middle;\n",
       "    }\n",
       "\n",
       "    .dataframe tbody tr th {\n",
       "        vertical-align: top;\n",
       "    }\n",
       "\n",
       "    .dataframe thead th {\n",
       "        text-align: right;\n",
       "    }\n",
       "</style>\n",
       "<table border=\"1\" class=\"dataframe\">\n",
       "  <thead>\n",
       "    <tr style=\"text-align: right;\">\n",
       "      <th></th>\n",
       "      <th>category</th>\n",
       "      <th>text_clean</th>\n",
       "      <th>category_sport</th>\n",
       "      <th>rf_sport_pred</th>\n",
       "      <th>xgb_sport_pred</th>\n",
       "    </tr>\n",
       "  </thead>\n",
       "  <tbody>\n",
       "    <tr>\n",
       "      <th>41</th>\n",
       "      <td>sport</td>\n",
       "      <td>federer claim dubai crown world number one rog...</td>\n",
       "      <td>1</td>\n",
       "      <td>0</td>\n",
       "      <td>0</td>\n",
       "    </tr>\n",
       "    <tr>\n",
       "      <th>77</th>\n",
       "      <td>sport</td>\n",
       "      <td>hodgson relish european clash former blackburn...</td>\n",
       "      <td>1</td>\n",
       "      <td>0</td>\n",
       "      <td>0</td>\n",
       "    </tr>\n",
       "    <tr>\n",
       "      <th>93</th>\n",
       "      <td>sport</td>\n",
       "      <td>south africa sweep top award south africa scha...</td>\n",
       "      <td>1</td>\n",
       "      <td>0</td>\n",
       "      <td>0</td>\n",
       "    </tr>\n",
       "    <tr>\n",
       "      <th>171</th>\n",
       "      <td>sport</td>\n",
       "      <td>red sink man magpie titus bramble goal put liv...</td>\n",
       "      <td>1</td>\n",
       "      <td>0</td>\n",
       "      <td>0</td>\n",
       "    </tr>\n",
       "  </tbody>\n",
       "</table>\n",
       "</div>"
      ],
      "text/plain": [
       "    category                                         text_clean  \\\n",
       "41     sport  federer claim dubai crown world number one rog...   \n",
       "77     sport  hodgson relish european clash former blackburn...   \n",
       "93     sport  south africa sweep top award south africa scha...   \n",
       "171    sport  red sink man magpie titus bramble goal put liv...   \n",
       "\n",
       "     category_sport  rf_sport_pred  xgb_sport_pred  \n",
       "41                1              0               0  \n",
       "77                1              0               0  \n",
       "93                1              0               0  \n",
       "171               1              0               0  "
      ]
     },
     "execution_count": 49,
     "metadata": {},
     "output_type": "execute_result"
    }
   ],
   "source": [
    "#investigate some of the mistakes the models made\n",
    "#first use the models to predict all of the data\n",
    "bbc['rf_sport_pred'] = gs_rf.predict(X)\n",
    "bbc['xgb_sport_pred'] = gs_xgb.predict(X)\n",
    "\n",
    "#now check where the models made mistakes to see if any observations can be made\n",
    "#pd.set_option('display.max_colwidth', -1)\n",
    "bbc[(bbc['category_sport'] == 1) & (bbc['rf_sport_pred'] == 0)].iloc[1:5, [0,3,2,4,5]]\n",
    "bbc[(bbc['category_sport'] == 1) & (bbc['xgb_sport_pred'] == 0)].iloc[1:5, [0,3,2,4,5]]"
   ]
  },
  {
   "cell_type": "markdown",
   "metadata": {
    "heading_collapsed": true
   },
   "source": [
    "### Conclusion"
   ]
  },
  {
   "cell_type": "markdown",
   "metadata": {
    "hidden": true
   },
   "source": [
    "The neural network model using LSTM achieves the best results in this analysis. The model achieves an accuracy score of 0.99 and an F1 score of 0.88 which indicates a very good model. \n",
    "\n",
    "More combinations of hyperperamaters could be tested on a server or with more computing power. The number of epochs in the neural network model could also be increased to see if performance improves."
   ]
  }
 ],
 "metadata": {
  "kernelspec": {
   "display_name": "Python 3",
   "language": "python",
   "name": "python3"
  },
  "language_info": {
   "codemirror_mode": {
    "name": "ipython",
    "version": 3
   },
   "file_extension": ".py",
   "mimetype": "text/x-python",
   "name": "python",
   "nbconvert_exporter": "python",
   "pygments_lexer": "ipython3",
   "version": "3.7.3"
  }
 },
 "nbformat": 4,
 "nbformat_minor": 2
}
