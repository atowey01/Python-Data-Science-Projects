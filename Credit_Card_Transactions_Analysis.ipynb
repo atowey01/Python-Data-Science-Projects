{
 "cells": [
  {
   "cell_type": "markdown",
   "metadata": {},
   "source": [
    "# Credit Card Transaction Analysis\n",
    "# Aisling Towey"
   ]
  },
  {
   "cell_type": "markdown",
   "metadata": {},
   "source": [
    "### Analysis Objective & Data Overview\n",
    "The objective of this analysis is to explore transaction data to identify what characteristics are most closely related to a transaction being fraudulent or not.\n",
    "\n",
    "The data consists of 10 variables and 594643 observations each representing a transaction either fraudulent or non fraudulent and can be found at https://www.kaggle.com/ntnu-testimon/banksim1#bs140513_032310.csv. As the outcome variable is known and is binary, this is a supervised learning classification problem."
   ]
  },
  {
   "cell_type": "markdown",
   "metadata": {},
   "source": [
    "### Import Modules"
   ]
  },
  {
   "cell_type": "code",
   "execution_count": 12,
   "metadata": {},
   "outputs": [],
   "source": [
    "#import modules\n",
    "import pandas as pd\n",
    "import numpy as np\n",
    "import matplotlib.pyplot as plt\n",
    "from imblearn.over_sampling import SMOTE\n",
    "#from imblearn.over_sampling import SMOTENC\n",
    "from sklearn.model_selection import train_test_split\n",
    "from sklearn.ensemble import RandomForestClassifier\n",
    "from sklearn.metrics import recall_score\n",
    "from sklearn.metrics import classification_report\n",
    "from sklearn.metrics import confusion_matrix\n",
    "from sklearn.metrics import accuracy_score\n",
    "from sklearn.metrics import roc_auc_score\n",
    "from sklearn.metrics import roc_curve\n",
    "from sklearn.model_selection import cross_val_score\n",
    "from xgboost.sklearn import XGBClassifier\n",
    "from xgboost.sklearn import XGBClassifier\n",
    "from xgboost import plot_importance\n",
    "import warnings\n",
    "warnings.filterwarnings('ignore')\n",
    "from sklearn.model_selection import GridSearchCV\n",
    "import os"
   ]
  },
  {
   "cell_type": "markdown",
   "metadata": {},
   "source": [
    "### Basic Data Exploration"
   ]
  },
  {
   "cell_type": "code",
   "execution_count": 13,
   "metadata": {},
   "outputs": [
    {
     "name": "stdout",
     "output_type": "stream",
     "text": [
      "   step       customer  age gender zipcodeOri       merchant zipMerchant  \\\n",
      "0     0  'C1093826151'  '4'    'M'    '28007'   'M348934600'     '28007'   \n",
      "1     0   'C352968107'  '2'    'M'    '28007'   'M348934600'     '28007'   \n",
      "2     0  'C2054744914'  '4'    'F'    '28007'  'M1823072687'     '28007'   \n",
      "3     0  'C1760612790'  '3'    'M'    '28007'   'M348934600'     '28007'   \n",
      "4     0   'C757503768'  '5'    'M'    '28007'   'M348934600'     '28007'   \n",
      "\n",
      "              category  amount  fraud  \n",
      "0  'es_transportation'    4.55      0  \n",
      "1  'es_transportation'   39.68      0  \n",
      "2  'es_transportation'   26.89      0  \n",
      "3  'es_transportation'   17.25      0  \n",
      "4  'es_transportation'   35.72      0  \n",
      "<class 'pandas.core.frame.DataFrame'>\n",
      "RangeIndex: 594643 entries, 0 to 594642\n",
      "Data columns (total 10 columns):\n",
      "step           594643 non-null int64\n",
      "customer       594643 non-null object\n",
      "age            594643 non-null object\n",
      "gender         594643 non-null object\n",
      "zipcodeOri     594643 non-null object\n",
      "merchant       594643 non-null object\n",
      "zipMerchant    594643 non-null object\n",
      "category       594643 non-null object\n",
      "amount         594643 non-null float64\n",
      "fraud          594643 non-null int64\n",
      "dtypes: float64(1), int64(2), object(7)\n",
      "memory usage: 45.4+ MB\n",
      "None\n",
      "(594643, 10)\n",
      "<class 'pandas.core.frame.DataFrame'>\n",
      "                step         amount          fraud\n",
      "count  594643.000000  594643.000000  594643.000000\n",
      "mean       94.986827      37.890135       0.012108\n",
      "std        51.053632     111.402831       0.109369\n",
      "min         0.000000       0.000000       0.000000\n",
      "25%        52.000000      13.740000       0.000000\n",
      "50%        97.000000      26.900000       0.000000\n",
      "75%       139.000000      42.540000       0.000000\n",
      "max       179.000000    8329.960000       1.000000\n"
     ]
    }
   ],
   "source": [
    "os.chdir('/Users/aislingtowey/Documents/Project/data')\n",
    "\n",
    "#read in data\n",
    "fraud = pd.read_csv(\"A2 data.csv\")\n",
    "\n",
    "#basic eda\n",
    "print(fraud.head())\n",
    "print(fraud.info())\n",
    "print(fraud.shape)\n",
    "print(type(fraud))\n",
    "print(fraud.describe())"
   ]
  },
  {
   "cell_type": "markdown",
   "metadata": {},
   "source": [
    "### Furthur Exploration & Data Preprocessing"
   ]
  },
  {
   "cell_type": "code",
   "execution_count": 14,
   "metadata": {},
   "outputs": [
    {
     "name": "stdout",
     "output_type": "stream",
     "text": [
      "<class 'pandas.core.frame.DataFrame'>\n",
      "RangeIndex: 594643 entries, 0 to 594642\n",
      "Data columns (total 8 columns):\n",
      "step        594643 non-null int64\n",
      "customer    594643 non-null object\n",
      "age         594643 non-null object\n",
      "gender      594643 non-null object\n",
      "merchant    594643 non-null object\n",
      "category    594643 non-null object\n",
      "amount      594643 non-null float64\n",
      "fraud       594643 non-null int64\n",
      "dtypes: float64(1), int64(2), object(5)\n",
      "memory usage: 36.3+ MB\n"
     ]
    },
    {
     "data": {
      "text/html": [
       "<div>\n",
       "<style scoped>\n",
       "    .dataframe tbody tr th:only-of-type {\n",
       "        vertical-align: middle;\n",
       "    }\n",
       "\n",
       "    .dataframe tbody tr th {\n",
       "        vertical-align: top;\n",
       "    }\n",
       "\n",
       "    .dataframe thead th {\n",
       "        text-align: right;\n",
       "    }\n",
       "</style>\n",
       "<table border=\"1\" class=\"dataframe\">\n",
       "  <thead>\n",
       "    <tr style=\"text-align: right;\">\n",
       "      <th></th>\n",
       "      <th>step</th>\n",
       "      <th>customer</th>\n",
       "      <th>age</th>\n",
       "      <th>gender</th>\n",
       "      <th>merchant</th>\n",
       "      <th>category</th>\n",
       "      <th>amount</th>\n",
       "      <th>fraud</th>\n",
       "    </tr>\n",
       "  </thead>\n",
       "  <tbody>\n",
       "    <tr>\n",
       "      <th>0</th>\n",
       "      <td>0</td>\n",
       "      <td>'C1093826151'</td>\n",
       "      <td>'4'</td>\n",
       "      <td>'M'</td>\n",
       "      <td>'M348934600'</td>\n",
       "      <td>'es_transportation'</td>\n",
       "      <td>4.55</td>\n",
       "      <td>0</td>\n",
       "    </tr>\n",
       "    <tr>\n",
       "      <th>1</th>\n",
       "      <td>0</td>\n",
       "      <td>'C352968107'</td>\n",
       "      <td>'2'</td>\n",
       "      <td>'M'</td>\n",
       "      <td>'M348934600'</td>\n",
       "      <td>'es_transportation'</td>\n",
       "      <td>39.68</td>\n",
       "      <td>0</td>\n",
       "    </tr>\n",
       "    <tr>\n",
       "      <th>2</th>\n",
       "      <td>0</td>\n",
       "      <td>'C2054744914'</td>\n",
       "      <td>'4'</td>\n",
       "      <td>'F'</td>\n",
       "      <td>'M1823072687'</td>\n",
       "      <td>'es_transportation'</td>\n",
       "      <td>26.89</td>\n",
       "      <td>0</td>\n",
       "    </tr>\n",
       "    <tr>\n",
       "      <th>3</th>\n",
       "      <td>0</td>\n",
       "      <td>'C1760612790'</td>\n",
       "      <td>'3'</td>\n",
       "      <td>'M'</td>\n",
       "      <td>'M348934600'</td>\n",
       "      <td>'es_transportation'</td>\n",
       "      <td>17.25</td>\n",
       "      <td>0</td>\n",
       "    </tr>\n",
       "    <tr>\n",
       "      <th>4</th>\n",
       "      <td>0</td>\n",
       "      <td>'C757503768'</td>\n",
       "      <td>'5'</td>\n",
       "      <td>'M'</td>\n",
       "      <td>'M348934600'</td>\n",
       "      <td>'es_transportation'</td>\n",
       "      <td>35.72</td>\n",
       "      <td>0</td>\n",
       "    </tr>\n",
       "  </tbody>\n",
       "</table>\n",
       "</div>"
      ],
      "text/plain": [
       "   step       customer  age gender       merchant             category  \\\n",
       "0     0  'C1093826151'  '4'    'M'   'M348934600'  'es_transportation'   \n",
       "1     0   'C352968107'  '2'    'M'   'M348934600'  'es_transportation'   \n",
       "2     0  'C2054744914'  '4'    'F'  'M1823072687'  'es_transportation'   \n",
       "3     0  'C1760612790'  '3'    'M'   'M348934600'  'es_transportation'   \n",
       "4     0   'C757503768'  '5'    'M'   'M348934600'  'es_transportation'   \n",
       "\n",
       "   amount  fraud  \n",
       "0    4.55      0  \n",
       "1   39.68      0  \n",
       "2   26.89      0  \n",
       "3   17.25      0  \n",
       "4   35.72      0  "
      ]
     },
     "execution_count": 14,
     "metadata": {},
     "output_type": "execute_result"
    }
   ],
   "source": [
    "#check for missing values\n",
    "fraud.isnull().sum()\n",
    "\n",
    "#check for duplicated rows\n",
    "fraud.duplicated().sum()\n",
    "\n",
    "#remove zip columns as they have zero variance\n",
    "fraud.loc[:,[\"zipMerchant\", \"zipcodeOri\"]]\n",
    "\n",
    "fraud = fraud.drop(columns=[\"zipMerchant\", \"zipcodeOri\"]) \n",
    "\n",
    "#ensure columns have been dropped\n",
    "fraud.info()\n",
    "fraud.head()"
   ]
  },
  {
   "cell_type": "code",
   "execution_count": 15,
   "metadata": {},
   "outputs": [
    {
     "data": {
      "text/html": [
       "<div>\n",
       "<style scoped>\n",
       "    .dataframe tbody tr th:only-of-type {\n",
       "        vertical-align: middle;\n",
       "    }\n",
       "\n",
       "    .dataframe tbody tr th {\n",
       "        vertical-align: top;\n",
       "    }\n",
       "\n",
       "    .dataframe thead th {\n",
       "        text-align: right;\n",
       "    }\n",
       "</style>\n",
       "<table border=\"1\" class=\"dataframe\">\n",
       "  <thead>\n",
       "    <tr style=\"text-align: right;\">\n",
       "      <th></th>\n",
       "      <th>step</th>\n",
       "      <th>customer</th>\n",
       "      <th>age</th>\n",
       "      <th>gender</th>\n",
       "      <th>merchant</th>\n",
       "      <th>category</th>\n",
       "      <th>amount</th>\n",
       "      <th>fraud</th>\n",
       "    </tr>\n",
       "  </thead>\n",
       "  <tbody>\n",
       "    <tr>\n",
       "      <th>0</th>\n",
       "      <td>0</td>\n",
       "      <td>C1093826151</td>\n",
       "      <td>4</td>\n",
       "      <td>M</td>\n",
       "      <td>M348934600</td>\n",
       "      <td>es_transportation</td>\n",
       "      <td>4.55</td>\n",
       "      <td>0</td>\n",
       "    </tr>\n",
       "    <tr>\n",
       "      <th>1</th>\n",
       "      <td>0</td>\n",
       "      <td>C352968107</td>\n",
       "      <td>2</td>\n",
       "      <td>M</td>\n",
       "      <td>M348934600</td>\n",
       "      <td>es_transportation</td>\n",
       "      <td>39.68</td>\n",
       "      <td>0</td>\n",
       "    </tr>\n",
       "    <tr>\n",
       "      <th>2</th>\n",
       "      <td>0</td>\n",
       "      <td>C2054744914</td>\n",
       "      <td>4</td>\n",
       "      <td>F</td>\n",
       "      <td>M1823072687</td>\n",
       "      <td>es_transportation</td>\n",
       "      <td>26.89</td>\n",
       "      <td>0</td>\n",
       "    </tr>\n",
       "    <tr>\n",
       "      <th>3</th>\n",
       "      <td>0</td>\n",
       "      <td>C1760612790</td>\n",
       "      <td>3</td>\n",
       "      <td>M</td>\n",
       "      <td>M348934600</td>\n",
       "      <td>es_transportation</td>\n",
       "      <td>17.25</td>\n",
       "      <td>0</td>\n",
       "    </tr>\n",
       "    <tr>\n",
       "      <th>4</th>\n",
       "      <td>0</td>\n",
       "      <td>C757503768</td>\n",
       "      <td>5</td>\n",
       "      <td>M</td>\n",
       "      <td>M348934600</td>\n",
       "      <td>es_transportation</td>\n",
       "      <td>35.72</td>\n",
       "      <td>0</td>\n",
       "    </tr>\n",
       "  </tbody>\n",
       "</table>\n",
       "</div>"
      ],
      "text/plain": [
       "   step     customer age gender     merchant           category  amount  fraud\n",
       "0     0  C1093826151   4      M   M348934600  es_transportation    4.55      0\n",
       "1     0   C352968107   2      M   M348934600  es_transportation   39.68      0\n",
       "2     0  C2054744914   4      F  M1823072687  es_transportation   26.89      0\n",
       "3     0  C1760612790   3      M   M348934600  es_transportation   17.25      0\n",
       "4     0   C757503768   5      M   M348934600  es_transportation   35.72      0"
      ]
     },
     "execution_count": 15,
     "metadata": {},
     "output_type": "execute_result"
    }
   ],
   "source": [
    "#there appeared to be quotation marks around all columns names which could be removed\n",
    "#remove all quotation marks in columns where they exist\n",
    "fraud['customer'] = fraud['customer'].str.strip('\\'')\n",
    "fraud['age'] = fraud['age'].str.strip('\\'')\n",
    "fraud['gender'] = fraud['gender'].str.strip('\\'')\n",
    "fraud['merchant'] = fraud['merchant'].str.strip('\\'')\n",
    "fraud['category'] = fraud['category'].str.strip('\\'')\n",
    "\n",
    "#ensure they have been removed\n",
    "fraud.head()"
   ]
  },
  {
   "cell_type": "code",
   "execution_count": 16,
   "metadata": {},
   "outputs": [
    {
     "data": {
      "image/png": "[encoded data removed]",
      "text/plain": [
       "<Figure size 432x288 with 1 Axes>"
      ]
     },
     "metadata": {
      "needs_background": "light"
     },
     "output_type": "display_data"
    },
    {
     "data": {
      "image/png": "[encoded data removed]",
      "text/plain": [
       "<Figure size 432x288 with 1 Axes>"
      ]
     },
     "metadata": {
      "needs_background": "light"
     },
     "output_type": "display_data"
    }
   ],
   "source": [
    "#Check the distribution of the amount variable. Although outliers exist these cannot be removed as it \n",
    "#is important to understand the high amount transactions as well as the low amount transactions.\n",
    "fraud.plot(kind = 'hist', y = 'amount', legend = False)\n",
    "plt.title(\"Distribution of Amount\")\n",
    "plt.xlabel(\"Amount\")\n",
    "plt.show()\n",
    "\n",
    "#check the distribution of amount\n",
    "fraud.plot(kind = 'box', y = 'amount', color = 'r')\n",
    "plt.title(\"Distribution of Amount\")\n",
    "plt.show()"
   ]
  },
  {
   "cell_type": "code",
   "execution_count": 17,
   "metadata": {},
   "outputs": [
    {
     "name": "stdout",
     "output_type": "stream",
     "text": [
      "(594643, 8)\n",
      "(594591, 8)\n"
     ]
    }
   ],
   "source": [
    "#Check are there transactions of 0 within amount which could be removed\n",
    "#52 were found so these were removed as none of them were fradulent\n",
    "fraud['amount'].loc[fraud.amount == 0].count() \n",
    "zero_tran = fraud.loc[fraud.amount == 0]\n",
    "\n",
    "#check if these 52 transactions are fradulent\n",
    "zero_tran[['fraud','amount']]\n",
    "print(fraud.shape)\n",
    "\n",
    "#remove the amounts equal to 0\n",
    "fraud = fraud.loc[fraud.amount != 0]\n",
    "\n",
    "#check the shape to ensure this has happened\n",
    "print(fraud.shape)"
   ]
  },
  {
   "cell_type": "code",
   "execution_count": 18,
   "metadata": {},
   "outputs": [
    {
     "data": {
      "text/plain": [
       "2    187289\n",
       "3    147115\n",
       "4    109018\n",
       "5     62638\n",
       "1     58130\n",
       "6     26772\n",
       "0      2452\n",
       "U      1177\n",
       "Name: age, dtype: int64"
      ]
     },
     "execution_count": 18,
     "metadata": {},
     "output_type": "execute_result"
    }
   ],
   "source": [
    "#explore the age categories\n",
    "#check the categories within age\n",
    "fraud.age.unique\n",
    "fraud[\"age\"].value_counts()"
   ]
  },
  {
   "cell_type": "code",
   "execution_count": 19,
   "metadata": {},
   "outputs": [
    {
     "data": {
      "text/plain": [
       "<matplotlib.axes._subplots.AxesSubplot at 0x121daaba8>"
      ]
     },
     "execution_count": 19,
     "metadata": {},
     "output_type": "execute_result"
    },
    {
     "data": {
      "image/png": "[encoded data removed]",
      "text/plain": [
       "<Figure size 432x288 with 1 Axes>"
      ]
     },
     "metadata": {
      "needs_background": "light"
     },
     "output_type": "display_data"
    }
   ],
   "source": [
    "#show the split between fradulent and non fradulent transactions\n",
    "#there is a large imbalance in the response variable with most transactions non-fraudulent\n",
    "fraud.groupby('fraud')['fraud'].count().plot(kind = 'bar')"
   ]
  },
  {
   "cell_type": "code",
   "execution_count": 20,
   "metadata": {},
   "outputs": [
    {
     "data": {
      "image/png": "[encoded data removed]",
      "text/plain": [
       "<Figure size 432x288 with 1 Axes>"
      ]
     },
     "metadata": {
      "needs_background": "light"
     },
     "output_type": "display_data"
    }
   ],
   "source": [
    "#Check the distribution of amount by category. From the data and the plot it is evident that any transaction with \n",
    "#an amount greater than 2150 was fraudulent and was in the travel category.\n",
    "plt.scatter(fraud.amount, fraud.category, c = fraud.fraud)\n",
    "plt.axvline(x=2150)\n",
    "plt.title(\"Distribution of Amount by Category\")\n",
    "plt.xlabel(\"Amount\")\n",
    "plt.ylabel(\"Category\")\n",
    "plt.show()"
   ]
  },
  {
   "cell_type": "code",
   "execution_count": 21,
   "metadata": {},
   "outputs": [
    {
     "data": {
      "text/html": [
       "<div>\n",
       "<style scoped>\n",
       "    .dataframe tbody tr th:only-of-type {\n",
       "        vertical-align: middle;\n",
       "    }\n",
       "\n",
       "    .dataframe tbody tr th {\n",
       "        vertical-align: top;\n",
       "    }\n",
       "\n",
       "    .dataframe thead th {\n",
       "        text-align: right;\n",
       "    }\n",
       "</style>\n",
       "<table border=\"1\" class=\"dataframe\">\n",
       "  <thead>\n",
       "    <tr style=\"text-align: right;\">\n",
       "      <th>fraud</th>\n",
       "      <th>0</th>\n",
       "      <th>1</th>\n",
       "    </tr>\n",
       "    <tr>\n",
       "      <th>merchant</th>\n",
       "      <th></th>\n",
       "      <th></th>\n",
       "    </tr>\n",
       "  </thead>\n",
       "  <tbody>\n",
       "    <tr>\n",
       "      <th>M1053599405</th>\n",
       "      <td>6821</td>\n",
       "      <td>0</td>\n",
       "    </tr>\n",
       "    <tr>\n",
       "      <th>M117188757</th>\n",
       "      <td>21</td>\n",
       "      <td>0</td>\n",
       "    </tr>\n",
       "    <tr>\n",
       "      <th>M1198415165</th>\n",
       "      <td>1222</td>\n",
       "      <td>358</td>\n",
       "    </tr>\n",
       "    <tr>\n",
       "      <th>M1294758098</th>\n",
       "      <td>7</td>\n",
       "      <td>184</td>\n",
       "    </tr>\n",
       "    <tr>\n",
       "      <th>M1313686961</th>\n",
       "      <td>527</td>\n",
       "      <td>0</td>\n",
       "    </tr>\n",
       "    <tr>\n",
       "      <th>M1352454843</th>\n",
       "      <td>370</td>\n",
       "      <td>0</td>\n",
       "    </tr>\n",
       "    <tr>\n",
       "      <th>M1353266412</th>\n",
       "      <td>14</td>\n",
       "      <td>64</td>\n",
       "    </tr>\n",
       "    <tr>\n",
       "      <th>M1400236507</th>\n",
       "      <td>776</td>\n",
       "      <td>0</td>\n",
       "    </tr>\n",
       "    <tr>\n",
       "      <th>M1416436880</th>\n",
       "      <td>220</td>\n",
       "      <td>0</td>\n",
       "    </tr>\n",
       "    <tr>\n",
       "      <th>M151143676</th>\n",
       "      <td>6253</td>\n",
       "      <td>120</td>\n",
       "    </tr>\n",
       "    <tr>\n",
       "      <th>M1535107174</th>\n",
       "      <td>1694</td>\n",
       "      <td>174</td>\n",
       "    </tr>\n",
       "    <tr>\n",
       "      <th>M1600850729</th>\n",
       "      <td>2624</td>\n",
       "      <td>0</td>\n",
       "    </tr>\n",
       "    <tr>\n",
       "      <th>M1649169323</th>\n",
       "      <td>1049</td>\n",
       "      <td>124</td>\n",
       "    </tr>\n",
       "    <tr>\n",
       "      <th>M1726401631</th>\n",
       "      <td>3</td>\n",
       "      <td>0</td>\n",
       "    </tr>\n",
       "    <tr>\n",
       "      <th>M17379832</th>\n",
       "      <td>104</td>\n",
       "      <td>178</td>\n",
       "    </tr>\n",
       "    <tr>\n",
       "      <th>M1741626453</th>\n",
       "      <td>332</td>\n",
       "      <td>196</td>\n",
       "    </tr>\n",
       "    <tr>\n",
       "      <th>M1748431652</th>\n",
       "      <td>238</td>\n",
       "      <td>36</td>\n",
       "    </tr>\n",
       "    <tr>\n",
       "      <th>M1788569036</th>\n",
       "      <td>181</td>\n",
       "      <td>0</td>\n",
       "    </tr>\n",
       "    <tr>\n",
       "      <th>M1823072687</th>\n",
       "      <td>299662</td>\n",
       "      <td>0</td>\n",
       "    </tr>\n",
       "    <tr>\n",
       "      <th>M1842530320</th>\n",
       "      <td>751</td>\n",
       "      <td>0</td>\n",
       "    </tr>\n",
       "    <tr>\n",
       "      <th>M1872033263</th>\n",
       "      <td>525</td>\n",
       "      <td>0</td>\n",
       "    </tr>\n",
       "    <tr>\n",
       "      <th>M1873032707</th>\n",
       "      <td>34</td>\n",
       "      <td>216</td>\n",
       "    </tr>\n",
       "    <tr>\n",
       "      <th>M1888755466</th>\n",
       "      <td>684</td>\n",
       "      <td>228</td>\n",
       "    </tr>\n",
       "    <tr>\n",
       "      <th>M1913465890</th>\n",
       "      <td>3988</td>\n",
       "      <td>0</td>\n",
       "    </tr>\n",
       "    <tr>\n",
       "      <th>M1946091778</th>\n",
       "      <td>5343</td>\n",
       "      <td>0</td>\n",
       "    </tr>\n",
       "    <tr>\n",
       "      <th>M2011752106</th>\n",
       "      <td>78</td>\n",
       "      <td>166</td>\n",
       "    </tr>\n",
       "    <tr>\n",
       "      <th>M2080407379</th>\n",
       "      <td>12</td>\n",
       "      <td>36</td>\n",
       "    </tr>\n",
       "    <tr>\n",
       "      <th>M209847108</th>\n",
       "      <td>3708</td>\n",
       "      <td>106</td>\n",
       "    </tr>\n",
       "    <tr>\n",
       "      <th>M2122776122</th>\n",
       "      <td>141</td>\n",
       "      <td>200</td>\n",
       "    </tr>\n",
       "    <tr>\n",
       "      <th>M348875670</th>\n",
       "      <td>97</td>\n",
       "      <td>10</td>\n",
       "    </tr>\n",
       "    <tr>\n",
       "      <th>M348934600</th>\n",
       "      <td>205409</td>\n",
       "      <td>0</td>\n",
       "    </tr>\n",
       "    <tr>\n",
       "      <th>M349281107</th>\n",
       "      <td>2881</td>\n",
       "      <td>0</td>\n",
       "    </tr>\n",
       "    <tr>\n",
       "      <th>M3697346</th>\n",
       "      <td>18</td>\n",
       "      <td>290</td>\n",
       "    </tr>\n",
       "    <tr>\n",
       "      <th>M45060432</th>\n",
       "      <td>573</td>\n",
       "      <td>0</td>\n",
       "    </tr>\n",
       "    <tr>\n",
       "      <th>M480139044</th>\n",
       "      <td>1874</td>\n",
       "      <td>1634</td>\n",
       "    </tr>\n",
       "    <tr>\n",
       "      <th>M495352832</th>\n",
       "      <td>45</td>\n",
       "      <td>24</td>\n",
       "    </tr>\n",
       "    <tr>\n",
       "      <th>M50039827</th>\n",
       "      <td>870</td>\n",
       "      <td>46</td>\n",
       "    </tr>\n",
       "    <tr>\n",
       "      <th>M547558035</th>\n",
       "      <td>833</td>\n",
       "      <td>116</td>\n",
       "    </tr>\n",
       "    <tr>\n",
       "      <th>M677738360</th>\n",
       "      <td>358</td>\n",
       "      <td>0</td>\n",
       "    </tr>\n",
       "    <tr>\n",
       "      <th>M692898500</th>\n",
       "      <td>884</td>\n",
       "      <td>16</td>\n",
       "    </tr>\n",
       "    <tr>\n",
       "      <th>M732195782</th>\n",
       "      <td>90</td>\n",
       "      <td>518</td>\n",
       "    </tr>\n",
       "    <tr>\n",
       "      <th>M78078399</th>\n",
       "      <td>1564</td>\n",
       "      <td>44</td>\n",
       "    </tr>\n",
       "    <tr>\n",
       "      <th>M840466850</th>\n",
       "      <td>1241</td>\n",
       "      <td>158</td>\n",
       "    </tr>\n",
       "    <tr>\n",
       "      <th>M855959430</th>\n",
       "      <td>5818</td>\n",
       "      <td>280</td>\n",
       "    </tr>\n",
       "    <tr>\n",
       "      <th>M857378720</th>\n",
       "      <td>30</td>\n",
       "      <td>92</td>\n",
       "    </tr>\n",
       "    <tr>\n",
       "      <th>M85975013</th>\n",
       "      <td>26250</td>\n",
       "      <td>0</td>\n",
       "    </tr>\n",
       "    <tr>\n",
       "      <th>M923029380</th>\n",
       "      <td>221</td>\n",
       "      <td>102</td>\n",
       "    </tr>\n",
       "    <tr>\n",
       "      <th>M933210764</th>\n",
       "      <td>57</td>\n",
       "      <td>12</td>\n",
       "    </tr>\n",
       "    <tr>\n",
       "      <th>M97925176</th>\n",
       "      <td>599</td>\n",
       "      <td>0</td>\n",
       "    </tr>\n",
       "    <tr>\n",
       "      <th>M980657600</th>\n",
       "      <td>297</td>\n",
       "      <td>1472</td>\n",
       "    </tr>\n",
       "  </tbody>\n",
       "</table>\n",
       "</div>"
      ],
      "text/plain": [
       "fraud             0     1\n",
       "merchant                 \n",
       "M1053599405    6821     0\n",
       "M117188757       21     0\n",
       "M1198415165    1222   358\n",
       "M1294758098       7   184\n",
       "M1313686961     527     0\n",
       "M1352454843     370     0\n",
       "M1353266412      14    64\n",
       "M1400236507     776     0\n",
       "M1416436880     220     0\n",
       "M151143676     6253   120\n",
       "M1535107174    1694   174\n",
       "M1600850729    2624     0\n",
       "M1649169323    1049   124\n",
       "M1726401631       3     0\n",
       "M17379832       104   178\n",
       "M1741626453     332   196\n",
       "M1748431652     238    36\n",
       "M1788569036     181     0\n",
       "M1823072687  299662     0\n",
       "M1842530320     751     0\n",
       "M1872033263     525     0\n",
       "M1873032707      34   216\n",
       "M1888755466     684   228\n",
       "M1913465890    3988     0\n",
       "M1946091778    5343     0\n",
       "M2011752106      78   166\n",
       "M2080407379      12    36\n",
       "M209847108     3708   106\n",
       "M2122776122     141   200\n",
       "M348875670       97    10\n",
       "M348934600   205409     0\n",
       "M349281107     2881     0\n",
       "M3697346         18   290\n",
       "M45060432       573     0\n",
       "M480139044     1874  1634\n",
       "M495352832       45    24\n",
       "M50039827       870    46\n",
       "M547558035      833   116\n",
       "M677738360      358     0\n",
       "M692898500      884    16\n",
       "M732195782       90   518\n",
       "M78078399      1564    44\n",
       "M840466850     1241   158\n",
       "M855959430     5818   280\n",
       "M857378720       30    92\n",
       "M85975013     26250     0\n",
       "M923029380      221   102\n",
       "M933210764       57    12\n",
       "M97925176       599     0\n",
       "M980657600      297  1472"
      ]
     },
     "execution_count": 21,
     "metadata": {},
     "output_type": "execute_result"
    }
   ],
   "source": [
    "#Explore the merchant variable\n",
    "#Note that the top 2 merchants account for approx 500000 transactions and none of these are fradulent\n",
    "pd.crosstab(fraud.merchant,fraud.fraud)"
   ]
  },
  {
   "cell_type": "code",
   "execution_count": 22,
   "metadata": {},
   "outputs": [
    {
     "data": {
      "text/html": [
       "<div>\n",
       "<style scoped>\n",
       "    .dataframe tbody tr th:only-of-type {\n",
       "        vertical-align: middle;\n",
       "    }\n",
       "\n",
       "    .dataframe tbody tr th {\n",
       "        vertical-align: top;\n",
       "    }\n",
       "\n",
       "    .dataframe thead th {\n",
       "        text-align: right;\n",
       "    }\n",
       "</style>\n",
       "<table border=\"1\" class=\"dataframe\">\n",
       "  <thead>\n",
       "    <tr style=\"text-align: right;\">\n",
       "      <th>fraud</th>\n",
       "      <th>0</th>\n",
       "      <th>1</th>\n",
       "    </tr>\n",
       "    <tr>\n",
       "      <th>category</th>\n",
       "      <th></th>\n",
       "      <th></th>\n",
       "    </tr>\n",
       "  </thead>\n",
       "  <tbody>\n",
       "    <tr>\n",
       "      <th>es_barsandrestaurants</th>\n",
       "      <td>6253</td>\n",
       "      <td>120</td>\n",
       "    </tr>\n",
       "    <tr>\n",
       "      <th>es_contents</th>\n",
       "      <td>885</td>\n",
       "      <td>0</td>\n",
       "    </tr>\n",
       "    <tr>\n",
       "      <th>es_fashion</th>\n",
       "      <td>6338</td>\n",
       "      <td>116</td>\n",
       "    </tr>\n",
       "    <tr>\n",
       "      <th>es_food</th>\n",
       "      <td>26250</td>\n",
       "      <td>0</td>\n",
       "    </tr>\n",
       "    <tr>\n",
       "      <th>es_health</th>\n",
       "      <td>14437</td>\n",
       "      <td>1696</td>\n",
       "    </tr>\n",
       "    <tr>\n",
       "      <th>es_home</th>\n",
       "      <td>1684</td>\n",
       "      <td>302</td>\n",
       "    </tr>\n",
       "    <tr>\n",
       "      <th>es_hotelservices</th>\n",
       "      <td>1196</td>\n",
       "      <td>548</td>\n",
       "    </tr>\n",
       "    <tr>\n",
       "      <th>es_hyper</th>\n",
       "      <td>5818</td>\n",
       "      <td>280</td>\n",
       "    </tr>\n",
       "    <tr>\n",
       "      <th>es_leisure</th>\n",
       "      <td>25</td>\n",
       "      <td>474</td>\n",
       "    </tr>\n",
       "    <tr>\n",
       "      <th>es_otherservices</th>\n",
       "      <td>684</td>\n",
       "      <td>228</td>\n",
       "    </tr>\n",
       "    <tr>\n",
       "      <th>es_sportsandtoys</th>\n",
       "      <td>2020</td>\n",
       "      <td>1982</td>\n",
       "    </tr>\n",
       "    <tr>\n",
       "      <th>es_tech</th>\n",
       "      <td>2212</td>\n",
       "      <td>158</td>\n",
       "    </tr>\n",
       "    <tr>\n",
       "      <th>es_transportation</th>\n",
       "      <td>505071</td>\n",
       "      <td>0</td>\n",
       "    </tr>\n",
       "    <tr>\n",
       "      <th>es_travel</th>\n",
       "      <td>150</td>\n",
       "      <td>578</td>\n",
       "    </tr>\n",
       "    <tr>\n",
       "      <th>es_wellnessandbeauty</th>\n",
       "      <td>14368</td>\n",
       "      <td>718</td>\n",
       "    </tr>\n",
       "  </tbody>\n",
       "</table>\n",
       "</div>"
      ],
      "text/plain": [
       "fraud                       0     1\n",
       "category                           \n",
       "es_barsandrestaurants    6253   120\n",
       "es_contents               885     0\n",
       "es_fashion               6338   116\n",
       "es_food                 26250     0\n",
       "es_health               14437  1696\n",
       "es_home                  1684   302\n",
       "es_hotelservices         1196   548\n",
       "es_hyper                 5818   280\n",
       "es_leisure                 25   474\n",
       "es_otherservices          684   228\n",
       "es_sportsandtoys         2020  1982\n",
       "es_tech                  2212   158\n",
       "es_transportation      505071     0\n",
       "es_travel                 150   578\n",
       "es_wellnessandbeauty    14368   718"
      ]
     },
     "execution_count": 22,
     "metadata": {},
     "output_type": "execute_result"
    }
   ],
   "source": [
    "#Explore the category variable\n",
    "#Note that no transactions in the transportation, food or contents categories were found to be fraudulent\n",
    "pd.crosstab(fraud.category,fraud.fraud)"
   ]
  },
  {
   "cell_type": "code",
   "execution_count": 23,
   "metadata": {},
   "outputs": [
    {
     "name": "stdout",
     "output_type": "stream",
     "text": [
      "<class 'pandas.core.frame.DataFrame'>\n",
      "Int64Index: 594591 entries, 0 to 594642\n",
      "Data columns (total 8 columns):\n",
      "step        594591 non-null int64\n",
      "customer    594591 non-null int16\n",
      "age         594591 non-null int8\n",
      "gender      594591 non-null int8\n",
      "merchant    594591 non-null int8\n",
      "category    594591 non-null int8\n",
      "amount      594591 non-null float64\n",
      "fraud       594591 non-null int64\n",
      "dtypes: float64(1), int16(1), int64(2), int8(4)\n",
      "memory usage: 21.5 MB\n",
      "None\n",
      "   step  customer  age  gender  merchant  category  amount  fraud\n",
      "0     0       210    4       2        30        12    4.55      0\n",
      "1     0      2753    2       2        30        12   39.68      0\n",
      "2     0      2285    4       1        18        12   26.89      0\n",
      "3     0      1650    3       2        30        12   17.25      0\n",
      "4     0      3585    5       2        30        12   35.72      0\n"
     ]
    }
   ],
   "source": [
    "#originally was going to use smotenc to balance the dataset but was taking too long on my machine so need to \n",
    "#change categoricals to numericals so that smote runs\n",
    "col_categorical = fraud.select_dtypes(include= ['object']).columns\n",
    "for col in col_categorical:\n",
    "    fraud[col] = fraud[col].astype('category')\n",
    "    \n",
    "#change categorical values to numeric values\n",
    "fraud[col_categorical] = fraud[col_categorical].apply(lambda x: x.cat.codes)\n",
    "\n",
    "#check the types have changed\n",
    "print(fraud.info())\n",
    "print(fraud.head(5))"
   ]
  },
  {
   "cell_type": "markdown",
   "metadata": {},
   "source": [
    "### Model Preparation"
   ]
  },
  {
   "cell_type": "code",
   "execution_count": 24,
   "metadata": {
    "scrolled": false
   },
   "outputs": [
    {
     "name": "stdout",
     "output_type": "stream",
     "text": [
      "   step  customer  age  gender  merchant  category  amount\n",
      "0     0       210    4       2        30        12    4.55\n",
      "1     0      2753    2       2        30        12   39.68\n",
      "2     0      2285    4       1        18        12   26.89\n",
      "3     0      1650    3       2        30        12   17.25\n",
      "4     0      3585    5       2        30        12   35.72 \n",
      "\n",
      "0    0\n",
      "1    0\n",
      "2    0\n",
      "3    0\n",
      "4    0\n",
      "Name: fraud, dtype: int64\n"
     ]
    }
   ],
   "source": [
    "#split independent and dependent variables\n",
    "X = fraud.drop(['fraud'],axis=1)\n",
    "y = fraud['fraud']\n",
    "print(X.head(),\"\\n\")\n",
    "print(y.head())"
   ]
  },
  {
   "cell_type": "code",
   "execution_count": 25,
   "metadata": {},
   "outputs": [
    {
     "name": "stdout",
     "output_type": "stream",
     "text": [
      "(416213, 7)\n",
      "(416213,)\n",
      "(178378, 7)\n",
      "(178378,)\n",
      "        step  customer  age  gender  merchant  category  amount\n",
      "296036    97      3368    3       1        18        12   44.74\n",
      "84304     31      3033    3       1        30        12   67.23\n",
      "220856    75      3719    1       1        18        12   51.51\n",
      "176168    61      3044    2       2        18        12   35.87\n",
      "321713   104        84    2       2        45         3   32.72\n"
     ]
    }
   ],
   "source": [
    "#split the data into a training and test spilt\n",
    "X_train, X_test, y_train, y_test = train_test_split(X, y ,test_size=0.3,random_state=42,shuffle=True,stratify=y)\n",
    "\n",
    "#check the dimensions of the training and test set\n",
    "print(X_train.shape)\n",
    "print(y_train.shape)\n",
    "print(X_test.shape)\n",
    "print(y_test.shape)\n",
    "\n",
    "print(X_train.head())"
   ]
  },
  {
   "cell_type": "code",
   "execution_count": 26,
   "metadata": {},
   "outputs": [
    {
     "name": "stdout",
     "output_type": "stream",
     "text": [
      "<class 'pandas.core.frame.DataFrame'>\n",
      "Int64Index: 594591 entries, 0 to 594642\n",
      "Data columns (total 8 columns):\n",
      "step        594591 non-null int64\n",
      "customer    594591 non-null int16\n",
      "age         594591 non-null int8\n",
      "gender      594591 non-null int8\n",
      "merchant    594591 non-null int8\n",
      "category    594591 non-null int8\n",
      "amount      594591 non-null float64\n",
      "fraud       594591 non-null int64\n",
      "dtypes: float64(1), int16(1), int64(2), int8(4)\n",
      "memory usage: 21.5 MB\n",
      "[411173 411173]\n"
     ]
    }
   ],
   "source": [
    "#use smoteNC to balance training dataset\n",
    "#smotenc should be used instead of smote as there are categorical features\n",
    "#as mentioned above this was taking too long to run on my machines\n",
    "#sm = SMOTENC(random_state=42, categorical_features=[1,2,3,4,5])\n",
    "#X_res, y_res = sm.fit_resample(X_train, y_train)\n",
    "#print(np.bincount(y_res))\n",
    "\n",
    "#check the types have changed\n",
    "fraud.info()\n",
    "\n",
    "#use smote to balance training dataset\n",
    "sm = SMOTE(random_state=42)\n",
    "X_res, y_res = sm.fit_resample(X_train, y_train)\n",
    "print(np.bincount(y_res))"
   ]
  },
  {
   "cell_type": "markdown",
   "metadata": {},
   "source": [
    "### Random Forest Model"
   ]
  },
  {
   "cell_type": "code",
   "execution_count": 28,
   "metadata": {},
   "outputs": [
    {
     "name": "stdout",
     "output_type": "stream",
     "text": [
      "              precision    recall  f1-score   support\n",
      "\n",
      "           0      0.998     0.998     0.998    176218\n",
      "           1      0.827     0.799     0.813      2160\n",
      "\n",
      "    accuracy                          0.996    178378\n",
      "   macro avg      0.912     0.899     0.905    178378\n",
      "weighted avg      0.995     0.996     0.996    178378\n",
      "\n",
      "[[175857    361]\n",
      " [   434   1726]]\n",
      "ROC Score: 0.8985127375897615\n",
      "Best Parameters = {'criterion': 'entropy', 'n_estimators': 30}\n",
      "Best F1 Score = 0.9977393871453092\n"
     ]
    }
   ],
   "source": [
    "rf= RandomForestClassifier(random_state = 11)\n",
    "\n",
    "#use grid search to find the best combination of parameters\n",
    "grid_param = { \n",
    "    'n_estimators': [30],\n",
    "    'criterion': ['gini', 'entropy']\n",
    "}\n",
    "\n",
    "clf_rf = GridSearchCV(estimator=rf,  \n",
    "                     param_grid=grid_param,\n",
    "                     scoring='f1_macro',\n",
    "                     cv=3)\n",
    "\n",
    "#train the model on the balanced data and use the test set to check if it generalises well\n",
    "clf_rf.fit(X_res, y_res)\n",
    "rf_predict = clf_rf.predict(X_test)\n",
    "\n",
    "#check metrics and best parameters\n",
    "print(classification_report(y_test, rf_predict, digits=3))\n",
    "print(confusion_matrix(y_test, rf_predict))\n",
    "print(\"ROC Score:\", roc_auc_score(y_test, rf_predict))\n",
    "print(f\"Best Parameters = {clf_rf.best_params_}\")\n",
    "print(f\"Best F1 Score = {clf_rf.best_score_}\") "
   ]
  },
  {
   "cell_type": "markdown",
   "metadata": {},
   "source": [
    "### Feature Importance"
   ]
  },
  {
   "cell_type": "code",
   "execution_count": 31,
   "metadata": {},
   "outputs": [
    {
     "name": "stdout",
     "output_type": "stream",
     "text": [
      "[0.00959113 0.01302536 0.0211465  0.04368291 0.17389152 0.38763188\n",
      " 0.3510307 ]\n"
     ]
    },
    {
     "data": {
      "image/png": "[encoded data removed]",
      "text/plain": [
       "<Figure size 432x288 with 1 Axes>"
      ]
     },
     "metadata": {
      "needs_background": "light"
     },
     "output_type": "display_data"
    },
    {
     "name": "stdout",
     "output_type": "stream",
     "text": [
      "Index(['step', 'customer', 'age', 'gender', 'merchant', 'category', 'amount',\n",
      "       'fraud'],\n",
      "      dtype='object')\n",
      "{'step': 0.009591133215456063, 'customer': 0.013025358570089525, 'age': 0.021146496745311674, 'gender': 0.043682911322818346, 'merchant': 0.1738915188255262, 'category': 0.3876318839941044, 'amount': 0.3510306973266938}\n"
     ]
    }
   ],
   "source": [
    "#check feature importance of model\n",
    "#Category, amount and merchant are the 3 most important variables to the model\n",
    "print(clf_rf.best_estimator_.feature_importances_)\n",
    "feature_imp = pd.Series(clf_rf.best_estimator_.feature_importances_).sort_values(ascending=False)\n",
    "feature_imp\n",
    "\n",
    "plt.bar(range(len(clf_rf.best_estimator_.feature_importances_)), clf_rf.best_estimator_.feature_importances_)\n",
    "plt.show()\n",
    "\n",
    "print(fraud.columns)\n",
    "\n",
    "#one method to get column names beside importance number\n",
    "print(dict(zip(fraud.columns, clf_rf.best_estimator_.feature_importances_)))\n"
   ]
  },
  {
   "cell_type": "code",
   "execution_count": 32,
   "metadata": {},
   "outputs": [
    {
     "name": "stdout",
     "output_type": "stream",
     "text": [
      "category    0.387632\n",
      "amount      0.351031\n",
      "merchant    0.173892\n",
      "gender      0.043683\n",
      "age         0.021146\n",
      "customer    0.013025\n",
      "step        0.009591\n",
      "dtype: float64\n"
     ]
    }
   ],
   "source": [
    "#second method\n",
    "important_features = pd.Series(data=clf_rf.best_estimator_.feature_importances_,index=X_train.columns)\n",
    "important_features.sort_values(ascending=False,inplace=True)\n",
    "print(important_features)"
   ]
  },
  {
   "cell_type": "markdown",
   "metadata": {},
   "source": [
    "### Conclusion"
   ]
  },
  {
   "cell_type": "markdown",
   "metadata": {},
   "source": [
    "In conclusion this analysis found that the variables category, amount and merchant were the variables that had characteristics that were closely related to whether a transaction was fraudulent or not. This finding was supported by both the exploratory data analysis and the random forest model. Various other models could be tested to find the best model for prediction in this scenario and paramaters could be tuned. \n",
    "\n",
    "The exploratory data analysis found that: any transaction with an amount greater than 2150 was fraudulent and was in the travel category;  no transactions in the transportation, food or contents categories were found to be fraudulent; and all transactions from the top 2 merchants were found to be non-fraudulent meaning fraudulent transactions occurred with merchants that had less transactions.\n"
   ]
  }
 ],
 "metadata": {
  "kernelspec": {
   "display_name": "Python 3",
   "language": "python",
   "name": "python3"
  },
  "language_info": {
   "codemirror_mode": {
    "name": "ipython",
    "version": 3
   },
   "file_extension": ".py",
   "mimetype": "text/x-python",
   "name": "python",
   "nbconvert_exporter": "python",
   "pygments_lexer": "ipython3",
   "version": "3.7.3"
  }
 },
 "nbformat": 4,
 "nbformat_minor": 2
}
